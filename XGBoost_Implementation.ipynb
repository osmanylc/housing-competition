{
 "cells": [
  {
   "cell_type": "code",
   "execution_count": null,
   "metadata": {},
   "outputs": [],
   "source": [
    "import numpy as np\n",
    "\n",
    "import cleaning as cl\n",
    "import tuning as tn\n",
    "\n",
    "seed = 1337"
   ]
  },
  {
   "cell_type": "markdown",
   "metadata": {},
   "source": [
    "## Read in data"
   ]
  },
  {
   "cell_type": "code",
   "execution_count": null,
   "metadata": {
    "_uuid": "ffd2d8a76a618d9b5e78773072cdfdb8def4aa74"
   },
   "outputs": [],
   "source": [
    "import pandas as pd\n",
    "\n",
    "train_df = pd.read_csv('train.csv')\n",
    "X_eval = pd.read_csv('test.csv')\n",
    "\n",
    "X = train_df.drop(columns='SalePrice')\n",
    "y = train_df.SalePrice"
   ]
  },
  {
   "cell_type": "markdown",
   "metadata": {},
   "source": [
    "## Clean up data for model fitting"
   ]
  },
  {
   "cell_type": "code",
   "execution_count": null,
   "metadata": {},
   "outputs": [],
   "source": [
    "from sklearn.model_selection import train_test_split\n",
    "\n",
    "X, X_eval = cl.create_one_hot_encoding(X, y, X_eval)"
   ]
  },
  {
   "cell_type": "markdown",
   "metadata": {},
   "source": [
    "## Create models"
   ]
  },
  {
   "cell_type": "code",
   "execution_count": null,
   "metadata": {},
   "outputs": [],
   "source": [
    "from sklearn.ensemble import RandomForestRegressor\n",
    "from xgboost import XGBRegressor\n",
    "from sklearn.ensemble import GradientBoostingRegressor\n",
    "\n",
    "models = {'rfr': RandomForestRegressor(n_estimators=100, \n",
    "                                       criterion='mae', \n",
    "                                       n_jobs=-1,\n",
    "                                       random_state=seed),\n",
    "          'xgbr': XGBRegressor(n_estimators=100,\n",
    "                               random_state=seed), \n",
    "          'skgbr': GradientBoostingRegressor(loss='lad', \n",
    "                                             n_estimators=100,\n",
    "                                             random_state=seed)}"
   ]
  },
  {
   "cell_type": "markdown",
   "metadata": {},
   "source": [
    "## Pipeline models into estimators"
   ]
  },
  {
   "cell_type": "code",
   "execution_count": null,
   "metadata": {},
   "outputs": [],
   "source": [
    "from sklearn.pipeline import make_pipeline\n",
    "from sklearn.impute import SimpleImputer\n",
    "\n",
    "estimators = {name: make_pipeline(SimpleImputer(), model) \n",
    "              for name, model in models.items()}"
   ]
  },
  {
   "cell_type": "markdown",
   "metadata": {},
   "source": [
    "## Steps for auto param search\n",
    "\n",
    "1. Use `RandomizedSearchCV` to find best params over a range.\n",
    "\n",
    "2. Take results of `RandomizedSearchCV` to reduce area of grid to search.\n",
    "    + Search should happen around the best param, and the area should be reduced by a factor.\n",
    "    + Add parameter specifying number of iterations of `RandomizedSearchCV` to run, each with the reduced parameter grid area.\n",
    "\n",
    "3. Return the parameters, the score, and the model that is the best fit."
   ]
  },
  {
   "cell_type": "code",
   "execution_count": null,
   "metadata": {},
   "outputs": [],
   "source": [
    "param_ranges = [{'name': 'xgbregressor__n_estimators', \n",
    "                      'low': 1e2, \n",
    "                      'high': 1e3, \n",
    "                      'n': 10, \n",
    "                      'is_log': False, \n",
    "                      'is_int': True},\n",
    "                     {'name': 'xgbregressor__learning_rate',\n",
    "                      'low': 1e-2,\n",
    "                      'high': 1e-1,\n",
    "                      'n': 10,\n",
    "                      'is_log': True,\n",
    "                      'is_int': False}]"
   ]
  },
  {
   "cell_type": "code",
   "execution_count": null,
   "metadata": {},
   "outputs": [],
   "source": [
    "best_params = tn.find_hyperparams_iterated(estimators['xgbr'], X, y, param_ranges, \n",
    "                                        {'xgbregressor__eval_metric': 'mae'}, 10, \n",
    "                                        'neg_mean_absolute_error', 5, 3, .5)"
   ]
  },
  {
   "cell_type": "code",
   "execution_count": null,
   "metadata": {},
   "outputs": [],
   "source": [
    "print(best_params)"
   ]
  },
  {
   "cell_type": "markdown",
   "metadata": {},
   "source": [
    "### Make predictions on test set"
   ]
  },
  {
   "cell_type": "code",
   "execution_count": null,
   "metadata": {},
   "outputs": [],
   "source": [
    "y_pred_test = (make_pipeline(SimpleImputer(),\n",
    "                             XGBRegressor(n_estimators=best_params['xgbregressor__n_estimators'], \n",
    "                                          learning_rate=best_params['xgbregressor__learning_rate'], \n",
    "                                          random_state=seed))\n",
    "               .fit(X,y)\n",
    "               .predict(X_eval))"
   ]
  },
  {
   "cell_type": "code",
   "execution_count": null,
   "metadata": {},
   "outputs": [],
   "source": [
    "out = pd.DataFrame({'Id': X_eval.Id.astype(int), 'SalePrice': y_pred_test})\n",
    "out.to_csv('xgbr_submission.csv', index=False)"
   ]
  },
  {
   "cell_type": "markdown",
   "metadata": {},
   "source": [
    "### Make partial dependence plots"
   ]
  },
  {
   "cell_type": "code",
   "execution_count": null,
   "metadata": {},
   "outputs": [],
   "source": [
    "from sklearn.ensemble.partial_dependence import plot_partial_dependence\n",
    "from sklearn.ensemble import GradientBoostingRegressor"
   ]
  },
  {
   "cell_type": "code",
   "execution_count": null,
   "metadata": {},
   "outputs": [],
   "source": [
    "bgbt = GradientBoostingRegressor(n_estimators=300, loss='lad')\n",
    "bgbt.fit(X_t, y_t)"
   ]
  },
  {
   "cell_type": "code",
   "execution_count": null,
   "metadata": {},
   "outputs": [],
   "source": [
    "important_features = ['LotArea', 'BedroomAbvGr', 'OverallCond', 'TotRmsAbvGrd']\n",
    "features_indices = [X_t.columns.get_loc(f) for f in important_features]"
   ]
  },
  {
   "cell_type": "code",
   "execution_count": null,
   "metadata": {},
   "outputs": [],
   "source": [
    "plot_partial_dependence(bgbt, X_t, [0,1], important_features)"
   ]
  },
  {
   "cell_type": "code",
   "execution_count": null,
   "metadata": {},
   "outputs": [],
   "source": [
    "plot_partial_dependence(bgbt, X_t, [2,3], important_features)"
   ]
  }
 ],
 "metadata": {
  "kernelspec": {
   "display_name": "Python 3",
   "language": "python",
   "name": "python3"
  },
  "language_info": {
   "codemirror_mode": {
    "name": "ipython",
    "version": 3
   },
   "file_extension": ".py",
   "mimetype": "text/x-python",
   "name": "python",
   "nbconvert_exporter": "python",
   "pygments_lexer": "ipython3",
   "version": "3.6.6"
  }
 },
 "nbformat": 4,
 "nbformat_minor": 2
}
