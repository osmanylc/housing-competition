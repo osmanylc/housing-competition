{
 "cells": [
  {
   "cell_type": "code",
   "execution_count": null,
   "metadata": {
    "_cell_guid": "b1076dfc-b9ad-4769-8c92-a6c4dae69d19",
    "_uuid": "8f2839f25d086af736a60e9eeb907d3b93b6e0e5"
   },
   "outputs": [],
   "source": [
    "import numpy as np\n",
    "import pandas as pd\n",
    "\n",
    "import cleaning as cl"
   ]
  },
  {
   "cell_type": "markdown",
   "metadata": {
    "_uuid": "811e6d95dd29cfa42aa94dfeed9e69d52d35bdb1"
   },
   "source": [
    "## Try Building a Random Forest with All Features (numeric / non-null)"
   ]
  },
  {
   "cell_type": "markdown",
   "metadata": {},
   "source": [
    "### Read in data"
   ]
  },
  {
   "cell_type": "code",
   "execution_count": null,
   "metadata": {
    "_uuid": "ffd2d8a76a618d9b5e78773072cdfdb8def4aa74"
   },
   "outputs": [],
   "source": [
    "train_df = pd.read_csv('train.csv')\n",
    "X_eval = pd.read_csv('test.csv')"
   ]
  },
  {
   "cell_type": "markdown",
   "metadata": {
    "_uuid": "54d47e10974db79e1edc63236727fc0d71ca6b4b"
   },
   "source": [
    "### Split training data into X and y"
   ]
  },
  {
   "cell_type": "code",
   "execution_count": null,
   "metadata": {
    "_uuid": "b10e4d0a69304066f15c335afd2b25f21a18aa77"
   },
   "outputs": [],
   "source": [
    "X = train_df.drop(columns='SalePrice')\n",
    "y = train_df.SalePrice"
   ]
  },
  {
   "cell_type": "markdown",
   "metadata": {},
   "source": [
    "### Get clean data to feed into model"
   ]
  },
  {
   "cell_type": "code",
   "execution_count": null,
   "metadata": {},
   "outputs": [],
   "source": [
    "X, y, X_eval, X_t, X_v, y_t, y_v = cl.prepare_data(X, y, X_eval)"
   ]
  },
  {
   "cell_type": "markdown",
   "metadata": {
    "_uuid": "acad2732c05d54a9afdc821c1512140c1c7fe33b"
   },
   "source": [
    "### Train random forest estimator"
   ]
  },
  {
   "cell_type": "code",
   "execution_count": null,
   "metadata": {
    "_uuid": "1793badf562813d5d1d5f0e1bab45d7b98f89f3d"
   },
   "outputs": [],
   "source": [
    "from sklearn.ensemble import RandomForestRegressor"
   ]
  },
  {
   "cell_type": "code",
   "execution_count": null,
   "metadata": {
    "_uuid": "6d094ac53243f0aaf8570bec0bdb6c5e0524b34f",
    "scrolled": false
   },
   "outputs": [],
   "source": [
    "rf_model = RandomForestRegressor(100, criterion='mse', random_state=1337)\n",
    "rf_model.fit(X_t, y_t)"
   ]
  },
  {
   "cell_type": "markdown",
   "metadata": {
    "_uuid": "78bea63bc2fb50c916514cf86f8d2c3f78cc0d53"
   },
   "source": [
    "## Make predictions on the test set and evaluate MAE"
   ]
  },
  {
   "cell_type": "code",
   "execution_count": null,
   "metadata": {
    "_uuid": "5f8905c685a228597ff651791b5e6d05b1dd918f"
   },
   "outputs": [],
   "source": [
    "from sklearn.metrics import mean_absolute_error"
   ]
  },
  {
   "cell_type": "code",
   "execution_count": null,
   "metadata": {
    "_uuid": "04ee5f1ca9b1d37f15dc2cef7b00af6d476f8994"
   },
   "outputs": [],
   "source": [
    "y_pred = rf_model.predict(X_v)\n",
    "mae = mean_absolute_error(y_v, y_pred)"
   ]
  },
  {
   "cell_type": "code",
   "execution_count": null,
   "metadata": {
    "_uuid": "d6e3944f9973bff26388f58616e2536abbc08d64"
   },
   "outputs": [],
   "source": [
    "print(mae)"
   ]
  },
  {
   "cell_type": "markdown",
   "metadata": {},
   "source": [
    "## Find Best `n_estimators`\n",
    "\n",
    "1. Make a list of candidate `n_estimators` values.\n",
    "2. For each candidate, get its MAE on the validation set.\n",
    "3. Pick the candidate with lowest MAE, and make a new list of candidates around this value.\n",
    "4. Repeat steps 2 - 3."
   ]
  },
  {
   "cell_type": "code",
   "execution_count": null,
   "metadata": {},
   "outputs": [],
   "source": [
    "lower_bound = 1\n",
    "upper_bound = 1000\n",
    "\n",
    "def make_mult_range(lower_bound, upper_bound, n):\n",
    "    assert upper_bound > lower_bound\n",
    "    \n",
    "    log_lower, log_upper = [np.log(x) \n",
    "                            for x in (lower_bound, upper_bound)]\n",
    "    \n",
    "    ran = log_upper - log_lower\n",
    "    \n",
    "    log_candidates = [log_lower + i * ran / n for i in range(n+1)]\n",
    "    \n",
    "    return [int(np.exp(c)) for c in log_candidates]"
   ]
  },
  {
   "cell_type": "code",
   "execution_count": null,
   "metadata": {},
   "outputs": [],
   "source": [
    "def find_best_n_est(X_t, y_t, X_v, y_v, l_bound, u_bound, n):\n",
    "    candidates = make_mult_range(l_bound, u_bound, n)\n",
    "    maes = []\n",
    "    \n",
    "    print(candidates)\n",
    "    \n",
    "    for c in candidates:\n",
    "        rf = RandomForestRegressor(n_estimators=c, random_state=1337)\n",
    "        rf.fit(X_t, y_t)\n",
    "        \n",
    "        y_hat = rf.predict(X_v)\n",
    "        mae = mean_absolute_error(y_hat, y_v)\n",
    "        \n",
    "        maes.append(mae)\n",
    "        print(f'{c}: {mae}')\n",
    "        \n",
    "    i_min = min(range(len(maes)), key=lambda i: maes[i])\n",
    "    \n",
    "    return candidates[i_min]"
   ]
  },
  {
   "cell_type": "markdown",
   "metadata": {},
   "source": [
    "Can find n_iters automatically by checking that (u_bound - l_bound) / n > 2"
   ]
  },
  {
   "cell_type": "code",
   "execution_count": null,
   "metadata": {},
   "outputs": [],
   "source": [
    "def find_best_n_est_iters(X_t, y_t, X_v, y_v, l_bound, u_bound, n, iters):\n",
    "    for i in range(iters):\n",
    "        best_c = find_best_n_est(X_t, y_t, X_v, y_v, l_bound, u_bound, n)\n",
    "        \n",
    "        step_size_log = .5 * (np.log(u_bound) - np.log(l_bound)) / n\n",
    "        \n",
    "        l_bound, u_bound = [np.exp(np.log(best_c) - step_size_log), \n",
    "                            np.exp(np.log(best_c) + step_size_log)]\n",
    "        \n",
    "    return best_c"
   ]
  },
  {
   "cell_type": "code",
   "execution_count": null,
   "metadata": {},
   "outputs": [],
   "source": [
    "best_n_est = find_best_n_est_iters(X_t, y_t, X_v, y_v, lower_bound, upper_bound, 10, 3)"
   ]
  },
  {
   "cell_type": "markdown",
   "metadata": {
    "_uuid": "eefb4ccb9f0ead8bffb4c1246e613d5b1ab41147"
   },
   "source": [
    "## Perfom predictions on test set"
   ]
  },
  {
   "cell_type": "markdown",
   "metadata": {},
   "source": [
    "### Create the RandomForest"
   ]
  },
  {
   "cell_type": "code",
   "execution_count": null,
   "metadata": {
    "_uuid": "60096deeb7d0c7ab1827e70c30b531b719c29d60"
   },
   "outputs": [],
   "source": [
    "final_rf = RandomForestRegressor(n_estimators=best_n_est, random_state=1337)"
   ]
  },
  {
   "cell_type": "markdown",
   "metadata": {},
   "source": [
    "### Train and run RF"
   ]
  },
  {
   "cell_type": "code",
   "execution_count": null,
   "metadata": {
    "_uuid": "bb0f6877ba4a5271b4411a6016b828fa37d0b803"
   },
   "outputs": [],
   "source": [
    "final_rf.fit(X, y)\n",
    "y_hat_final = final_rf.predict(X_eval)"
   ]
  },
  {
   "cell_type": "code",
   "execution_count": null,
   "metadata": {
    "_uuid": "c6edd3478dfca665e4c6ef4da985deb9fe423e46"
   },
   "outputs": [],
   "source": [
    "out = pd.DataFrame({'Id': X_eval.Id.astype(int), 'SalePrice': y_hat_final})\n",
    "out.to_csv('submission.csv', index=False)"
   ]
  },
  {
   "cell_type": "code",
   "execution_count": null,
   "metadata": {},
   "outputs": [],
   "source": [
    "best_n_est"
   ]
  },
  {
   "cell_type": "code",
   "execution_count": null,
   "metadata": {},
   "outputs": [],
   "source": []
  }
 ],
 "metadata": {
  "kernelspec": {
   "display_name": "Python 3",
   "language": "python",
   "name": "python3"
  },
  "language_info": {
   "codemirror_mode": {
    "name": "ipython",
    "version": 3
   },
   "file_extension": ".py",
   "mimetype": "text/x-python",
   "name": "python",
   "nbconvert_exporter": "python",
   "pygments_lexer": "ipython3",
   "version": "3.6.6"
  }
 },
 "nbformat": 4,
 "nbformat_minor": 1
}
